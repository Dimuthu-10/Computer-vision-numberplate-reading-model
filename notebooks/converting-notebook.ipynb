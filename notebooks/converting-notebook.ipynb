{
 "cells": [
  {
   "cell_type": "markdown",
   "metadata": {
    "collapsed": true,
    "pycharm": {
     "name": "#%% md\n"
    }
   },
   "source": [
    "## Converting files to tensorflow lite"
   ]
  },
  {
   "cell_type": "code",
   "execution_count": 10,
   "outputs": [],
   "source": [
    "import tensorflow as tf\n",
    "\n",
    "from tensorflow.keras.models import load_model"
   ],
   "metadata": {
    "collapsed": false,
    "pycharm": {
     "name": "#%%\n"
    }
   }
  },
  {
   "cell_type": "code",
   "execution_count": 11,
   "outputs": [],
   "source": [
    "model = load_model(\"../models/alexNet72%.hdf5\")"
   ],
   "metadata": {
    "collapsed": false,
    "pycharm": {
     "name": "#%%\n"
    }
   }
  },
  {
   "cell_type": "code",
   "execution_count": 12,
   "outputs": [
    {
     "name": "stdout",
     "output_type": "stream",
     "text": [
      "WARNING:tensorflow:AutoGraph could not transform <function trace_model_call.<locals>._wrapped_model at 0x000001E49A2B6820> and will run it as-is.\n",
      "Please report this to the TensorFlow team. When filing the bug, set the verbosity to 10 (on Linux, `export AUTOGRAPH_VERBOSITY=10`) and attach the full output.\n",
      "Cause: closure mismatch, requested ('model',), but source function had ()\n",
      "To silence this warning, decorate the function with @tf.autograph.experimental.do_not_convert\n",
      "WARNING: AutoGraph could not transform <function trace_model_call.<locals>._wrapped_model at 0x000001E49A2B6820> and will run it as-is.\n",
      "Please report this to the TensorFlow team. When filing the bug, set the verbosity to 10 (on Linux, `export AUTOGRAPH_VERBOSITY=10`) and attach the full output.\n",
      "Cause: closure mismatch, requested ('model',), but source function had ()\n",
      "To silence this warning, decorate the function with @tf.autograph.experimental.do_not_convert\n",
      "INFO:tensorflow:Assets written to: ../models/Lite-model\\assets\n"
     ]
    }
   ],
   "source": [
    "tf.saved_model.save(model,\"../models/Lite-model\")"
   ],
   "metadata": {
    "collapsed": false,
    "pycharm": {
     "name": "#%%\n"
    }
   }
  },
  {
   "cell_type": "code",
   "execution_count": 15,
   "outputs": [
    {
     "name": "stderr",
     "output_type": "stream",
     "text": [
      "WARNING:absl:Buffer deduplication procedure will be skipped when flatbuffer library is not properly loaded\n"
     ]
    }
   ],
   "source": [
    "from keras_preprocessing.image import load_img, img_to_array\n",
    "\n",
    "converter = tf.lite.TFLiteConverter.from_saved_model(\"../models/Lite-model\")\n",
    "tflite_model = converter.convert()\n",
    "lite_path = \"../models/vehicle-detection-72percent.tflite\"\n",
    "\n",
    "with open(lite_path,\"wb\") as file:\n",
    "    file.write(tflite_model)"
   ],
   "metadata": {
    "collapsed": false,
    "pycharm": {
     "name": "#%%\n"
    }
   }
  },
  {
   "cell_type": "code",
   "execution_count": null,
   "outputs": [],
   "source": [
    "# tflite_model = converter.convert()\n",
    "# open(\"../models/vehicle-detction-72percent.tflite\",\"wb\").write(tflite_model)"
   ],
   "metadata": {
    "collapsed": false,
    "pycharm": {
     "name": "#%%\n"
    }
   }
  },
  {
   "cell_type": "code",
   "execution_count": 24,
   "outputs": [
    {
     "ename": "ValueError",
     "evalue": "Cannot set tensor: Tensor is unallocated. Try calling allocate_tensors() first",
     "output_type": "error",
     "traceback": [
      "\u001B[1;31m---------------------------------------------------------------------------\u001B[0m",
      "\u001B[1;31mValueError\u001B[0m                                Traceback (most recent call last)",
      "\u001B[1;32m~\\AppData\\Local\\Temp/ipykernel_8172/1624862372.py\u001B[0m in \u001B[0;36m<module>\u001B[1;34m\u001B[0m\n\u001B[0;32m     15\u001B[0m \u001B[0moutput_dtl\u001B[0m \u001B[1;33m=\u001B[0m \u001B[0minterpreter\u001B[0m\u001B[1;33m.\u001B[0m\u001B[0mget_output_details\u001B[0m\u001B[1;33m(\u001B[0m\u001B[1;33m)\u001B[0m\u001B[1;33m\u001B[0m\u001B[1;33m\u001B[0m\u001B[0m\n\u001B[0;32m     16\u001B[0m \u001B[1;33m\u001B[0m\u001B[0m\n\u001B[1;32m---> 17\u001B[1;33m \u001B[0minterpreter\u001B[0m\u001B[1;33m.\u001B[0m\u001B[0mset_tensor\u001B[0m\u001B[1;33m(\u001B[0m\u001B[0minput_dtl\u001B[0m\u001B[1;33m[\u001B[0m\u001B[1;36m0\u001B[0m\u001B[1;33m]\u001B[0m\u001B[1;33m[\u001B[0m\u001B[1;34m'index'\u001B[0m\u001B[1;33m]\u001B[0m\u001B[1;33m,\u001B[0m \u001B[0mpredict_img\u001B[0m\u001B[1;33m)\u001B[0m\u001B[1;33m\u001B[0m\u001B[1;33m\u001B[0m\u001B[0m\n\u001B[0m\u001B[0;32m     18\u001B[0m \u001B[1;31m# interpreter.invoke()\u001B[0m\u001B[1;33m\u001B[0m\u001B[1;33m\u001B[0m\u001B[0m\n\u001B[0;32m     19\u001B[0m \u001B[1;31m# pred = interpreter.get_tensor(output_dtl[0]['index'])\u001B[0m\u001B[1;33m\u001B[0m\u001B[1;33m\u001B[0m\u001B[0m\n",
      "\u001B[1;32m~\\AppData\\Local\\Programs\\Python\\Python39\\lib\\site-packages\\tensorflow\\lite\\python\\interpreter.py\u001B[0m in \u001B[0;36mset_tensor\u001B[1;34m(self, tensor_index, value)\u001B[0m\n\u001B[0;32m    703\u001B[0m       \u001B[0mValueError\u001B[0m\u001B[1;33m:\u001B[0m \u001B[0mIf\u001B[0m \u001B[0mthe\u001B[0m \u001B[0minterpreter\u001B[0m \u001B[0mcould\u001B[0m \u001B[1;32mnot\u001B[0m \u001B[0mset\u001B[0m \u001B[0mthe\u001B[0m \u001B[0mtensor\u001B[0m\u001B[1;33m.\u001B[0m\u001B[1;33m\u001B[0m\u001B[1;33m\u001B[0m\u001B[0m\n\u001B[0;32m    704\u001B[0m     \"\"\"\n\u001B[1;32m--> 705\u001B[1;33m     \u001B[0mself\u001B[0m\u001B[1;33m.\u001B[0m\u001B[0m_interpreter\u001B[0m\u001B[1;33m.\u001B[0m\u001B[0mSetTensor\u001B[0m\u001B[1;33m(\u001B[0m\u001B[0mtensor_index\u001B[0m\u001B[1;33m,\u001B[0m \u001B[0mvalue\u001B[0m\u001B[1;33m)\u001B[0m\u001B[1;33m\u001B[0m\u001B[1;33m\u001B[0m\u001B[0m\n\u001B[0m\u001B[0;32m    706\u001B[0m \u001B[1;33m\u001B[0m\u001B[0m\n\u001B[0;32m    707\u001B[0m   \u001B[1;32mdef\u001B[0m \u001B[0mresize_tensor_input\u001B[0m\u001B[1;33m(\u001B[0m\u001B[0mself\u001B[0m\u001B[1;33m,\u001B[0m \u001B[0minput_index\u001B[0m\u001B[1;33m,\u001B[0m \u001B[0mtensor_size\u001B[0m\u001B[1;33m,\u001B[0m \u001B[0mstrict\u001B[0m\u001B[1;33m=\u001B[0m\u001B[1;32mFalse\u001B[0m\u001B[1;33m)\u001B[0m\u001B[1;33m:\u001B[0m\u001B[1;33m\u001B[0m\u001B[1;33m\u001B[0m\u001B[0m\n",
      "\u001B[1;31mValueError\u001B[0m: Cannot set tensor: Tensor is unallocated. Try calling allocate_tensors() first"
     ]
    }
   ],
   "source": [
    "import os\n",
    "from keras_preprocessing.image import load_img, img_to_array\n",
    "\n",
    "predict_img = load_img(\n",
    "path= \"../data/License-plate/images/Cars0.png\",\n",
    "target_size=(224, 224))\n",
    "predict_img = img_to_array(predict_img) / 255.0\n",
    "predict_img = predict_img.reshape((1, 224, 224, 3))\n",
    "\n",
    "model_path = \"../models/vehicle-detection-72percent.tflite\"\n",
    "# model = load_model(model_path)\n",
    "interpreter = tf.lite.Interpreter(model_path=model_path)\n",
    "\n",
    "input_dtl = interpreter.get_input_details()\n",
    "output_dtl = interpreter.get_output_details()\n",
    "\n",
    "interpreter.set_tensor(input_dtl[0]['index'], predict_img)\n",
    "interpreter.invoke()\n",
    "pred = interpreter.get_tensor(output_dtl[0]['index'])"
   ],
   "metadata": {
    "collapsed": false,
    "pycharm": {
     "name": "#%%\n"
    }
   }
  },
  {
   "cell_type": "code",
   "execution_count": 23,
   "outputs": [
    {
     "data": {
      "text/plain": "(1, 224, 224, 3)"
     },
     "execution_count": 23,
     "metadata": {},
     "output_type": "execute_result"
    }
   ],
   "source": [
    "predict_img.shape"
   ],
   "metadata": {
    "collapsed": false,
    "pycharm": {
     "name": "#%%\n"
    }
   }
  },
  {
   "cell_type": "code",
   "execution_count": null,
   "outputs": [],
   "source": [],
   "metadata": {
    "collapsed": false,
    "pycharm": {
     "name": "#%%\n"
    }
   }
  }
 ],
 "metadata": {
  "kernelspec": {
   "display_name": "Python 3",
   "language": "python",
   "name": "python3"
  },
  "language_info": {
   "codemirror_mode": {
    "name": "ipython",
    "version": 2
   },
   "file_extension": ".py",
   "mimetype": "text/x-python",
   "name": "python",
   "nbconvert_exporter": "python",
   "pygments_lexer": "ipython2",
   "version": "2.7.6"
  }
 },
 "nbformat": 4,
 "nbformat_minor": 0
}