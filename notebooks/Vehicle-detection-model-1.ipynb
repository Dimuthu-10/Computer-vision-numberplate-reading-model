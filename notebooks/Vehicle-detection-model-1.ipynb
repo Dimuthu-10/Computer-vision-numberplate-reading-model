{
 "cells": [
  {
   "cell_type": "markdown",
   "metadata": {
    "collapsed": true,
    "pycharm": {
     "name": "#%% md\n"
    }
   },
   "source": [
    "## Vehicle Detection model 1"
   ]
  },
  {
   "cell_type": "code",
   "execution_count": null,
   "outputs": [],
   "source": [],
   "metadata": {
    "collapsed": false,
    "pycharm": {
     "name": "#%%\n"
    }
   }
  },
  {
   "cell_type": "code",
   "execution_count": 12,
   "outputs": [],
   "source": [
    "import os\n",
    "import tensorflow as tf\n",
    "import numpy as np\n",
    "import seaborn as sns\n",
    "\n",
    "from sklearn.model_selection import train_test_split\n",
    "from tensorflow.keras.preprocessing.image import load_img,img_to_array,ImageDataGenerator\n",
    "from tensorflow.keras.models import Sequential\n",
    "from tensorflow.keras.layers import Dense,InputLayer,Flatten,MaxPooling2D,Conv2D\n",
    "from tensorflow.keras.activations import relu,sigmoid\n",
    "from keras.callbacks import ReduceLROnPlateau, ModelCheckpoint, EarlyStopping\n",
    "from tensorflow.keras.optimizers import Adam\n",
    "from keras.utils.vis_utils import plot_model\n",
    "from keras.metrics import binary_accuracy\n",
    "from keras.losses import binary_crossentropy\n",
    "from keras.optimizer_v1 import SGD\n",
    "from keras.activations import softmax\n",
    "from matplotlib import pyplot as plt\n"
   ],
   "metadata": {
    "collapsed": false,
    "pycharm": {
     "name": "#%%\n"
    }
   }
  },
  {
   "cell_type": "code",
   "execution_count": null,
   "outputs": [],
   "source": [],
   "metadata": {
    "collapsed": false,
    "pycharm": {
     "name": "#%%\n"
    }
   }
  },
  {
   "cell_type": "code",
   "execution_count": null,
   "outputs": [],
   "source": [
    "train_src =\"../input/vehicle-data-set/cardataset/train\"\n",
    "train_dst = \"train\"\n",
    "\n",
    "test_src = \"../input/vehicle-data-set/cardataset/test\"\n",
    "test_dst = \"test\"\n",
    "\n",
    "os.mkdir(train_dst)\n",
    "os.mkdir(test_dst)\n",
    "\n",
    "for sub_dir in os.listdir(train_src):\n",
    "    if not os.path.isdir(os.path.join(train_dst,sub_dir)):\n",
    "        os.mkdir(os.path.join(train_dst,sub_dir))\n",
    "\n",
    "    for img in os.listdir(os.path.join(train_dst,sub_dir)):\n",
    "        image = load_img(img, target_size=(96,96))\n",
    "        image.save(os.path.join(train_dst,sub_dir))\n",
    "\n",
    "for sub_dir in os.listdir(test_src):\n",
    "    if not os.path.isdir(os.path.join(test_dst,sub_dir)):\n",
    "        os.mkdir(os.path.join(test_dst,sub_dir))\n",
    "\n",
    "    for img in os.listdir(os.path.join(test_dst,sub_dir)):\n",
    "        image = load_img(img, target_size=(96,96))\n",
    "        image.save(os.path.join(test_dst,sub_dir))\n",
    "\n"
   ],
   "metadata": {
    "collapsed": false,
    "pycharm": {
     "name": "#%%\n"
    }
   }
  },
  {
   "cell_type": "code",
   "execution_count": null,
   "outputs": [],
   "source": [
    "for class_no,emotion in emo_classes.items():\n",
    "    new_train_src = os.path.join(train_src, class_no)\n",
    "    new_train_dst = os.path.join(train_dst, emotion)\n",
    "\n",
    "    for img in os.listdir(new_train_src):\n",
    "        src = os.path.join(new_train_src, img)\n",
    "        dst = os.path.join(new_train_dst, img)\n",
    "        img_ = img_to_array(load_img(src, target_size=(64,64)))\n",
    "        save_img(dst, img_)\n",
    "\n",
    "\n",
    "    new_val_src = os.path.join(val_src, class_no)\n",
    "    new_val_dst = os.path.join(val_dst, emotion)\n",
    "    os.mkdir(f'val_class/{emotion}')\n",
    "\n",
    "    for img in os.listdir(new_val_src):\n",
    "        src = os.path.join(new_val_src, img)\n",
    "        dst = os.path.join(new_val_dst, img)\n",
    "        img_ = img_to_array(load_img(src, target_size=(64,64)))\n",
    "        save_img(dst, img_)"
   ],
   "metadata": {
    "collapsed": false,
    "pycharm": {
     "name": "#%%\n"
    }
   }
  },
  {
   "cell_type": "code",
   "execution_count": null,
   "outputs": [],
   "source": [
    "for img in os.listdir(car_dir):\n",
    "    image_path = os.path.join(car_dir,img)\n",
    "    image = img_to_array(load_img(path=image_path, target_size=(150,150)))\n"
   ],
   "metadata": {
    "collapsed": false,
    "pycharm": {
     "name": "#%%\n"
    }
   }
  },
  {
   "cell_type": "code",
   "execution_count": null,
   "outputs": [],
   "source": [
    "genarator = ImageDataGenerator(rescale=1./255,\n",
    "                               rotation_range=45,\n",
    "                               horizontal_flip=True,\n",
    "                               vertical_flip=True,\n",
    "                               validation_split=0.2)\n",
    "\n",
    "train_gen = genarator.flow_from_directory('../input',\n",
    "                                          target_size=(96,96),\n",
    "                                          batch_size=128,\n",
    "                                          subset='training')\n",
    "\n",
    "val_gen = genarator.flow_from_directory(\"../input\",\n",
    "                                        target_size=(96,96),\n",
    "                                        batch_size=128,\n",
    "                                        subset='validation')"
   ],
   "metadata": {
    "collapsed": false,
    "pycharm": {
     "name": "#%%\n"
    }
   }
  },
  {
   "cell_type": "code",
   "execution_count": 9,
   "outputs": [
    {
     "name": "stdout",
     "output_type": "stream",
     "text": [
      "Model: \"sequential_5\"\n",
      "_________________________________________________________________\n",
      " Layer (type)                Output Shape              Param #   \n",
      "=================================================================\n",
      " conv2d_24 (Conv2D)          (None, 94, 94, 128)       3584      \n",
      "                                                                 \n",
      " max_pooling2d_20 (MaxPoolin  (None, 47, 47, 128)      0         \n",
      " g2D)                                                            \n",
      "                                                                 \n",
      " conv2d_25 (Conv2D)          (None, 45, 45, 196)       225988    \n",
      "                                                                 \n",
      " conv2d_26 (Conv2D)          (None, 43, 43, 128)       225920    \n",
      "                                                                 \n",
      " conv2d_27 (Conv2D)          (None, 41, 41, 128)       147584    \n",
      "                                                                 \n",
      " conv2d_28 (Conv2D)          (None, 39, 39, 128)       147584    \n",
      "                                                                 \n",
      " conv2d_29 (Conv2D)          (None, 37, 37, 128)       147584    \n",
      "                                                                 \n",
      " conv2d_30 (Conv2D)          (None, 35, 35, 128)       147584    \n",
      "                                                                 \n",
      " max_pooling2d_21 (MaxPoolin  (None, 17, 17, 128)      0         \n",
      " g2D)                                                            \n",
      "                                                                 \n",
      " flatten (Flatten)           (None, 36992)             0         \n",
      "                                                                 \n",
      " dense (Dense)               (None, 1024)              37880832  \n",
      "                                                                 \n",
      " dense_1 (Dense)             (None, 512)               524800    \n",
      "                                                                 \n",
      " dense_2 (Dense)             (None, 256)               131328    \n",
      "                                                                 \n",
      " dense_3 (Dense)             (None, 128)               32896     \n",
      "                                                                 \n",
      " dense_4 (Dense)             (None, 17)                2193      \n",
      "                                                                 \n",
      "=================================================================\n",
      "Total params: 39,617,877\n",
      "Trainable params: 39,617,877\n",
      "Non-trainable params: 0\n",
      "_________________________________________________________________\n"
     ]
    }
   ],
   "source": [
    "model = Sequential()\n",
    "\n",
    "model.add(InputLayer(input_shape=(96,96,3)))\n",
    "\n",
    "model.add(Conv2D(filters=128, kernel_size=(3,3),activation=relu))\n",
    "model.add(MaxPooling2D(pool_size=(2,2)))\n",
    "\n",
    "model.add(Conv2D(filters=196, kernel_size=(3,3),activation=relu))\n",
    "# model.add(MaxPooling2D(pool_size=(2,2)))\n",
    "\n",
    "model.add(Conv2D(filters=128, kernel_size=(3,3),activation=relu))\n",
    "# model.add(MaxPooling2D(pool_size=(2,2)))\n",
    "\n",
    "model.add(Conv2D(filters=128, kernel_size=(3,3),activation=relu))\n",
    "# model.add(MaxPooling2D(pool_size=(2,2)))\n",
    "\n",
    "model.add(Conv2D(filters=128, kernel_size=(3,3),activation=relu))\n",
    "# model.add(MaxPooling2D(pool_size=(2,2)))\n",
    "\n",
    "model.add(Conv2D(filters=128, kernel_size=(3,3),activation=relu))\n",
    "# model.add(MaxPooling2D(pool_size=(2,2)))\n",
    "\n",
    "model.add(Conv2D(filters=128, kernel_size=(3,3),activation=relu))\n",
    "model.add(MaxPooling2D(pool_size=(2,2)))\n",
    "\n",
    "##classifier\n",
    "model.add(Flatten())\n",
    "model.add(Dense(units=1024, activation=relu))\n",
    "model.add(Dense(units=512, activation=relu))\n",
    "model.add(Dense(units=256, activation=relu))\n",
    "model.add(Dense(units=128, activation=relu))\n",
    "model.add(Dense(units=17, activation=sigmoid))\n",
    "\n",
    "model.summary()"
   ],
   "metadata": {
    "collapsed": false,
    "pycharm": {
     "name": "#%%\n"
    }
   }
  },
  {
   "cell_type": "code",
   "execution_count": 11,
   "outputs": [
    {
     "name": "stdout",
     "output_type": "stream",
     "text": [
      "('You must install pydot (`pip install pydot`) and install graphviz (see instructions at https://graphviz.gitlab.io/download/) ', 'for plot_model/model_to_dot to work.')\n"
     ]
    }
   ],
   "source": [
    "plot_model(model,\n",
    "           show_shapes=True,\n",
    "           show_layer_names=True)"
   ],
   "metadata": {
    "collapsed": false,
    "pycharm": {
     "name": "#%%\n"
    }
   }
  },
  {
   "cell_type": "code",
   "execution_count": null,
   "outputs": [],
   "source": [
    "\n",
    "\n",
    "model.compile(optimizer=Adam,\n",
    "              loss=softmax, #softmax\n",
    "              metrics=['accuracy',binary_accuracy])"
   ],
   "metadata": {
    "collapsed": false,
    "pycharm": {
     "name": "#%%\n"
    }
   }
  },
  {
   "cell_type": "code",
   "execution_count": null,
   "outputs": [],
   "source": [
    "\n",
    "reduce_lr = ReduceLROnPlateau(monitor='val_loss',\n",
    "                              factor=np.sqrt(0.1))\n",
    "\n",
    "check_point = ModelCheckpoint(filepath='alexNet.hdf5',\n",
    "                              monitor='val_loss',\n",
    "                              save_best_only=True)\n",
    "\n",
    "early_stop = EarlyStopping(monitor='val_loss',\n",
    "                           patience=20,\n",
    "                           restore_best_weights=True)\n",
    "\n",
    "callbacks = [reduce_lr, check_point, early_stop]"
   ],
   "metadata": {
    "collapsed": false,
    "pycharm": {
     "name": "#%%\n"
    }
   }
  },
  {
   "cell_type": "code",
   "execution_count": null,
   "outputs": [],
   "source": [
    "model.fit(train_gen,\n",
    "          callbacks=callbacks,\n",
    "          validation_data=val_gen,\n",
    "          epochs=5)"
   ],
   "metadata": {
    "collapsed": false,
    "pycharm": {
     "name": "#%%\n"
    }
   }
  }
 ],
 "metadata": {
  "kernelspec": {
   "display_name": "Python 3",
   "language": "python",
   "name": "python3"
  },
  "language_info": {
   "codemirror_mode": {
    "name": "ipython",
    "version": 2
   },
   "file_extension": ".py",
   "mimetype": "text/x-python",
   "name": "python",
   "nbconvert_exporter": "python",
   "pygments_lexer": "ipython2",
   "version": "2.7.6"
  }
 },
 "nbformat": 4,
 "nbformat_minor": 0
}